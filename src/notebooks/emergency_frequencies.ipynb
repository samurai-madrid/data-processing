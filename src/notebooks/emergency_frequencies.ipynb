{
 "cells": [
  {
   "cell_type": "markdown",
   "metadata": {},
   "source": [
    "# SAMUR Emergency Frequencies"
   ]
  },
  {
   "cell_type": "markdown",
   "metadata": {},
   "source": [
    "This notebook explores how the frequency of different types of emergency changes with time in relation to different periods (hours of the day, days of the week, months of the year...) and locations in Madrid. This will be useful for constructing a realistic emergency generator in the city simulation.\n",
    "\n",
    "Let's start with some imports and setup, and then read the table."
   ]
  },
  {
   "cell_type": "code",
   "execution_count": 1,
   "metadata": {},
   "outputs": [],
   "source": [
    "import pandas as pd\n",
    "import datetime\n",
    "import matplotlib.pyplot as plt\n",
    "import yaml\n",
    "%matplotlib inline"
   ]
  },
  {
   "cell_type": "code",
   "execution_count": 2,
   "metadata": {},
   "outputs": [
    {
     "data": {
      "text/html": [
       "<div>\n",
       "<style scoped>\n",
       "    .dataframe tbody tr th:only-of-type {\n",
       "        vertical-align: middle;\n",
       "    }\n",
       "\n",
       "    .dataframe tbody tr th {\n",
       "        vertical-align: top;\n",
       "    }\n",
       "\n",
       "    .dataframe thead th {\n",
       "        text-align: right;\n",
       "    }\n",
       "</style>\n",
       "<table border=\"1\" class=\"dataframe\">\n",
       "  <thead>\n",
       "    <tr style=\"text-align: right;\">\n",
       "      <th></th>\n",
       "      <th>Unnamed: 0</th>\n",
       "      <th>Año</th>\n",
       "      <th>Mes</th>\n",
       "      <th>Distrito</th>\n",
       "      <th>Hospital</th>\n",
       "      <th>Devuelto</th>\n",
       "      <th>Solicitud</th>\n",
       "      <th>Intervención</th>\n",
       "      <th>Dia de la semana</th>\n",
       "      <th>Tiempo de recorrido</th>\n",
       "      <th>Gravedad</th>\n",
       "      <th>IBC</th>\n",
       "      <th>Coordenadas</th>\n",
       "      <th>Mes_num</th>\n",
       "      <th>Hora_del_dia</th>\n",
       "      <th>Dia_desde_2017</th>\n",
       "      <th>Semana</th>\n",
       "    </tr>\n",
       "  </thead>\n",
       "  <tbody>\n",
       "    <tr>\n",
       "      <th>0</th>\n",
       "      <td>0</td>\n",
       "      <td>2017</td>\n",
       "      <td>ENERO</td>\n",
       "      <td>Centro</td>\n",
       "      <td>Concepción (Fund. J. Díaz)</td>\n",
       "      <td>False</td>\n",
       "      <td>2017-01-01 00:23:19</td>\n",
       "      <td>2017-01-01 00:28:59</td>\n",
       "      <td>6</td>\n",
       "      <td>0 days 00:05:40</td>\n",
       "      <td>2</td>\n",
       "      <td>0.0</td>\n",
       "      <td>POINT (-1084.985671688465 315.1856405139253)</td>\n",
       "      <td>0</td>\n",
       "      <td>23</td>\n",
       "      <td>0</td>\n",
       "      <td>0</td>\n",
       "    </tr>\n",
       "    <tr>\n",
       "      <th>1</th>\n",
       "      <td>1</td>\n",
       "      <td>2017</td>\n",
       "      <td>ENERO</td>\n",
       "      <td>Carabanchel</td>\n",
       "      <td>No derivado</td>\n",
       "      <td>False</td>\n",
       "      <td>2017-01-01 00:27:35</td>\n",
       "      <td>2017-01-01 00:35:44</td>\n",
       "      <td>6</td>\n",
       "      <td>0 days 00:08:09</td>\n",
       "      <td>3</td>\n",
       "      <td>256.0</td>\n",
       "      <td>POINT (-1420.483085081759 -2942.78224949467)</td>\n",
       "      <td>0</td>\n",
       "      <td>27</td>\n",
       "      <td>0</td>\n",
       "      <td>0</td>\n",
       "    </tr>\n",
       "    <tr>\n",
       "      <th>2</th>\n",
       "      <td>2</td>\n",
       "      <td>2017</td>\n",
       "      <td>ENERO</td>\n",
       "      <td>Salamanca</td>\n",
       "      <td>No derivado</td>\n",
       "      <td>False</td>\n",
       "      <td>2017-01-01 00:47:26</td>\n",
       "      <td>2017-01-01 00:55:49</td>\n",
       "      <td>6</td>\n",
       "      <td>0 days 00:08:23</td>\n",
       "      <td>2</td>\n",
       "      <td>1191.0</td>\n",
       "      <td>POINT (1662.930700416665 1816.00590750245)</td>\n",
       "      <td>0</td>\n",
       "      <td>47</td>\n",
       "      <td>0</td>\n",
       "      <td>0</td>\n",
       "    </tr>\n",
       "    <tr>\n",
       "      <th>3</th>\n",
       "      <td>3</td>\n",
       "      <td>2017</td>\n",
       "      <td>ENERO</td>\n",
       "      <td>Centro</td>\n",
       "      <td>Doce de Octubre</td>\n",
       "      <td>False</td>\n",
       "      <td>2017-01-01 00:55:13</td>\n",
       "      <td>2017-01-01 01:02:23</td>\n",
       "      <td>6</td>\n",
       "      <td>0 days 00:07:10</td>\n",
       "      <td>3</td>\n",
       "      <td>467.0</td>\n",
       "      <td>POINT (-895.6722010203512 -101.6973139135703)</td>\n",
       "      <td>0</td>\n",
       "      <td>55</td>\n",
       "      <td>0</td>\n",
       "      <td>0</td>\n",
       "    </tr>\n",
       "    <tr>\n",
       "      <th>4</th>\n",
       "      <td>4</td>\n",
       "      <td>2017</td>\n",
       "      <td>ENERO</td>\n",
       "      <td>Villa de Vallecas</td>\n",
       "      <td>No derivado</td>\n",
       "      <td>False</td>\n",
       "      <td>2017-01-01 01:07:11</td>\n",
       "      <td>2017-01-01 01:19:44</td>\n",
       "      <td>6</td>\n",
       "      <td>0 days 00:12:33</td>\n",
       "      <td>4</td>\n",
       "      <td>718.0</td>\n",
       "      <td>POINT (8340.751952136179 -5598.25045023518)</td>\n",
       "      <td>0</td>\n",
       "      <td>67</td>\n",
       "      <td>0</td>\n",
       "      <td>0</td>\n",
       "    </tr>\n",
       "  </tbody>\n",
       "</table>\n",
       "</div>"
      ],
      "text/plain": [
       "   Unnamed: 0   Año    Mes           Distrito                    Hospital  \\\n",
       "0           0  2017  ENERO             Centro  Concepción (Fund. J. Díaz)   \n",
       "1           1  2017  ENERO        Carabanchel                 No derivado   \n",
       "2           2  2017  ENERO          Salamanca                 No derivado   \n",
       "3           3  2017  ENERO             Centro             Doce de Octubre   \n",
       "4           4  2017  ENERO  Villa de Vallecas                 No derivado   \n",
       "\n",
       "   Devuelto            Solicitud         Intervención  Dia de la semana  \\\n",
       "0     False  2017-01-01 00:23:19  2017-01-01 00:28:59                 6   \n",
       "1     False  2017-01-01 00:27:35  2017-01-01 00:35:44                 6   \n",
       "2     False  2017-01-01 00:47:26  2017-01-01 00:55:49                 6   \n",
       "3     False  2017-01-01 00:55:13  2017-01-01 01:02:23                 6   \n",
       "4     False  2017-01-01 01:07:11  2017-01-01 01:19:44                 6   \n",
       "\n",
       "  Tiempo de recorrido  Gravedad     IBC  \\\n",
       "0     0 days 00:05:40         2     0.0   \n",
       "1     0 days 00:08:09         3   256.0   \n",
       "2     0 days 00:08:23         2  1191.0   \n",
       "3     0 days 00:07:10         3   467.0   \n",
       "4     0 days 00:12:33         4   718.0   \n",
       "\n",
       "                                     Coordenadas  Mes_num  Hora_del_dia  \\\n",
       "0   POINT (-1084.985671688465 315.1856405139253)        0            23   \n",
       "1   POINT (-1420.483085081759 -2942.78224949467)        0            27   \n",
       "2     POINT (1662.930700416665 1816.00590750245)        0            47   \n",
       "3  POINT (-895.6722010203512 -101.6973139135703)        0            55   \n",
       "4    POINT (8340.751952136179 -5598.25045023518)        0            67   \n",
       "\n",
       "   Dia_desde_2017  Semana  \n",
       "0               0       0  \n",
       "1               0       0  \n",
       "2               0       0  \n",
       "3               0       0  \n",
       "4               0       0  "
      ]
     },
     "execution_count": 2,
     "metadata": {},
     "output_type": "execute_result"
    }
   ],
   "source": [
    "df = pd.read_csv(\"../data/emergency_data.csv\")\n",
    "df.head()"
   ]
  },
  {
   "cell_type": "markdown",
   "metadata": {},
   "source": [
    "The column for the time of the call is a string, so let's change that into a timestamp."
   ]
  },
  {
   "cell_type": "code",
   "execution_count": 3,
   "metadata": {},
   "outputs": [],
   "source": [
    "df[\"time_call\"] = pd.to_datetime(df[\"Solicitud\"])"
   ]
  },
  {
   "cell_type": "markdown",
   "metadata": {},
   "source": [
    "We will also need to assign a numerical code to each district of the city in order to properly vectorize the distribution an make it easier to work along with other parts of the project."
   ]
  },
  {
   "cell_type": "code",
   "execution_count": 4,
   "metadata": {},
   "outputs": [],
   "source": [
    "district_codes = {\n",
    "    'Centro': 1, \n",
    "    'Arganzuela': 2, \n",
    "    'Retiro': 3, \n",
    "    'Salamanca': 4, \n",
    "    'Chamartín': 5, \n",
    "    'Tetuán': 6, \n",
    "    'Chamberí': 7, \n",
    "    'Fuencarral - El Pardo': 8, \n",
    "    'Moncloa - Aravaca': 9, \n",
    "    'Latina': 10, \n",
    "    'Carabanchel': 11, \n",
    "    'Usera': 12, \n",
    "    'Puente de Vallecas': 13, \n",
    "    'Moratalaz': 14, \n",
    "    'Ciudad Lineal': 15, \n",
    "    'Hortaleza': 16, \n",
    "    'Villaverde': 17, \n",
    "    'Villa de Vallecas': 18, \n",
    "    'Vicálvaro': 19, \n",
    "    'San Blas - Canillejas': 20, \n",
    "    'Barajas': 21,\n",
    "    }\n",
    "\n",
    "df[\"district_code\"] = df.Distrito.apply(lambda x: district_codes[x])"
   ]
  },
  {
   "cell_type": "markdown",
   "metadata": {},
   "source": [
    "Each emergency has already been assigned a severity level, depending on the nature of the reported emergency."
   ]
  },
  {
   "cell_type": "code",
   "execution_count": 5,
   "metadata": {},
   "outputs": [],
   "source": [
    "df[\"severity\"] = df[\"Gravedad\"]"
   ]
  },
  {
   "cell_type": "markdown",
   "metadata": {},
   "source": [
    "We also need the hour, weekday and month of the event in order to assign it in the various distributions."
   ]
  },
  {
   "cell_type": "code",
   "execution_count": 6,
   "metadata": {},
   "outputs": [],
   "source": [
    "df[\"hour\"] = df[\"time_call\"].apply(lambda x: x.hour)  # From 0 to 23\n",
    "df[\"weekday\"] = df[\"time_call\"].apply(lambda x: x.weekday()+1)  # From 1 (Mon) to 7 (Sun)\n",
    "df[\"month\"] = df[\"time_call\"].apply(lambda x: x.month)"
   ]
  },
  {
   "cell_type": "markdown",
   "metadata": {},
   "source": [
    "Let's also strip down the dataset to just the columns we need right now."
   ]
  },
  {
   "cell_type": "code",
   "execution_count": 7,
   "metadata": {},
   "outputs": [
    {
     "data": {
      "text/html": [
       "<div>\n",
       "<style scoped>\n",
       "    .dataframe tbody tr th:only-of-type {\n",
       "        vertical-align: middle;\n",
       "    }\n",
       "\n",
       "    .dataframe tbody tr th {\n",
       "        vertical-align: top;\n",
       "    }\n",
       "\n",
       "    .dataframe thead th {\n",
       "        text-align: right;\n",
       "    }\n",
       "</style>\n",
       "<table border=\"1\" class=\"dataframe\">\n",
       "  <thead>\n",
       "    <tr style=\"text-align: right;\">\n",
       "      <th></th>\n",
       "      <th>district_code</th>\n",
       "      <th>severity</th>\n",
       "      <th>time_call</th>\n",
       "      <th>hour</th>\n",
       "      <th>weekday</th>\n",
       "      <th>month</th>\n",
       "    </tr>\n",
       "  </thead>\n",
       "  <tbody>\n",
       "    <tr>\n",
       "      <th>0</th>\n",
       "      <td>1</td>\n",
       "      <td>2</td>\n",
       "      <td>2017-01-01 00:23:19</td>\n",
       "      <td>0</td>\n",
       "      <td>7</td>\n",
       "      <td>1</td>\n",
       "    </tr>\n",
       "    <tr>\n",
       "      <th>1</th>\n",
       "      <td>11</td>\n",
       "      <td>3</td>\n",
       "      <td>2017-01-01 00:27:35</td>\n",
       "      <td>0</td>\n",
       "      <td>7</td>\n",
       "      <td>1</td>\n",
       "    </tr>\n",
       "    <tr>\n",
       "      <th>2</th>\n",
       "      <td>4</td>\n",
       "      <td>2</td>\n",
       "      <td>2017-01-01 00:47:26</td>\n",
       "      <td>0</td>\n",
       "      <td>7</td>\n",
       "      <td>1</td>\n",
       "    </tr>\n",
       "    <tr>\n",
       "      <th>3</th>\n",
       "      <td>1</td>\n",
       "      <td>3</td>\n",
       "      <td>2017-01-01 00:55:13</td>\n",
       "      <td>0</td>\n",
       "      <td>7</td>\n",
       "      <td>1</td>\n",
       "    </tr>\n",
       "    <tr>\n",
       "      <th>4</th>\n",
       "      <td>18</td>\n",
       "      <td>4</td>\n",
       "      <td>2017-01-01 01:07:11</td>\n",
       "      <td>1</td>\n",
       "      <td>7</td>\n",
       "      <td>1</td>\n",
       "    </tr>\n",
       "  </tbody>\n",
       "</table>\n",
       "</div>"
      ],
      "text/plain": [
       "   district_code  severity           time_call  hour  weekday  month\n",
       "0              1         2 2017-01-01 00:23:19     0        7      1\n",
       "1             11         3 2017-01-01 00:27:35     0        7      1\n",
       "2              4         2 2017-01-01 00:47:26     0        7      1\n",
       "3              1         3 2017-01-01 00:55:13     0        7      1\n",
       "4             18         4 2017-01-01 01:07:11     1        7      1"
      ]
     },
     "execution_count": 7,
     "metadata": {},
     "output_type": "execute_result"
    }
   ],
   "source": [
    "df = df[[\"district_code\", \"severity\", \"time_call\", \"hour\", \"weekday\", \"month\"]]\n",
    "df.head()"
   ]
  },
  {
   "cell_type": "markdown",
   "metadata": {},
   "source": [
    "We are going to group the distributions by severity."
   ]
  },
  {
   "cell_type": "code",
   "execution_count": 8,
   "metadata": {},
   "outputs": [
    {
     "data": {
      "text/plain": [
       "1    107570\n",
       "2    107186\n",
       "3     40759\n",
       "4    115137\n",
       "5     42778\n",
       "Name: total_emergencies, dtype: int64"
      ]
     },
     "execution_count": 8,
     "metadata": {},
     "output_type": "execute_result"
    }
   ],
   "source": [
    "emergencies_per_grav = df.severity.value_counts().sort_index().rename(\"total_emergencies\")\n",
    "emergencies_per_grav"
   ]
  },
  {
   "cell_type": "markdown",
   "metadata": {},
   "source": [
    "We will also need the global frequency of the emergencies:"
   ]
  },
  {
   "cell_type": "code",
   "execution_count": 9,
   "metadata": {},
   "outputs": [
    {
     "data": {
      "text/plain": [
       "1    0.001137\n",
       "2    0.001133\n",
       "3    0.000431\n",
       "4    0.001217\n",
       "5    0.000452\n",
       "Name: emergency_frequencies, dtype: float64"
      ]
     },
     "execution_count": 9,
     "metadata": {},
     "output_type": "execute_result"
    }
   ],
   "source": [
    "total_seconds = (df.time_call.max()-df.time_call.min()).total_seconds()\n",
    "frequencies_per_grav = (emergencies_per_grav / total_seconds).rename(\"emergency_frequencies\")\n",
    "frequencies_per_grav"
   ]
  },
  {
   "cell_type": "markdown",
   "metadata": {},
   "source": [
    "Each emergency will need to be assigne a district. Assuming independent distribution of emergencies by district and time, each will be assigned to a district according to a global probability based on this dataset, as follows."
   ]
  },
  {
   "cell_type": "code",
   "execution_count": 10,
   "metadata": {},
   "outputs": [
    {
     "data": {
      "text/plain": [
       "1     0.153830\n",
       "2     0.052923\n",
       "3     0.035832\n",
       "4     0.057035\n",
       "5     0.046039\n",
       "6     0.055666\n",
       "7     0.049578\n",
       "8     0.044593\n",
       "9     0.059466\n",
       "10    0.057932\n",
       "11    0.067799\n",
       "12    0.037438\n",
       "13    0.059103\n",
       "14    0.019031\n",
       "15    0.047171\n",
       "16    0.029693\n",
       "17    0.031178\n",
       "18    0.025385\n",
       "19    0.014430\n",
       "20    0.041925\n",
       "21    0.013952\n",
       "Name: distric_weight, dtype: float64"
      ]
     },
     "execution_count": 10,
     "metadata": {},
     "output_type": "execute_result"
    }
   ],
   "source": [
    "prob_per_district = (df.district_code.value_counts().sort_index()/df.district_code.value_counts().sum()).rename(\"distric_weight\")\n",
    "prob_per_district"
   ]
  },
  {
   "cell_type": "markdown",
   "metadata": {},
   "source": [
    "In order to be able to simplify the generation of emergencies, we are going to assume that the distributions of emergencies per hour, per weekday and per month are independent, sharing no correlation. This is obiously not fully true, but it is a good approximation for the chosen time-frames."
   ]
  },
  {
   "cell_type": "code",
   "execution_count": 11,
   "metadata": {},
   "outputs": [],
   "source": [
    "hourly_dist = (df.hour.value_counts()/df.hour.value_counts().mean()).sort_index().rename(\"hourly_distribution\")\n",
    "daily_dist = (df.weekday.value_counts()/df.weekday.value_counts().mean()).sort_index().rename(\"daily_distribution\")\n",
    "monthly_dist = (df.month.value_counts()/df.month.value_counts().mean()).sort_index().rename(\"monthly_distribution\")"
   ]
  },
  {
   "cell_type": "markdown",
   "metadata": {},
   "source": [
    "We will actually make one of these per severity level."
   ]
  },
  {
   "cell_type": "markdown",
   "metadata": {},
   "source": [
    "This will allow us to modify the base emergency density of a given severity as follows:"
   ]
  },
  {
   "cell_type": "code",
   "execution_count": 12,
   "metadata": {},
   "outputs": [],
   "source": [
    "def emergency_density(gravity, hour, weekday, month):\n",
    "    base_density = frequencies_per_grav[gravity]\n",
    "    density = base_density * hourly_dist[hour] * daily_dist[weekday] * monthly_dist[month]\n",
    "    return density"
   ]
  },
  {
   "cell_type": "code",
   "execution_count": 13,
   "metadata": {},
   "outputs": [
    {
     "data": {
      "text/plain": [
       "0.0007160038372819694"
      ]
     },
     "execution_count": 13,
     "metadata": {},
     "output_type": "execute_result"
    }
   ],
   "source": [
    "emergency_density(3, 12, 4, 5)  # Emergency frequency for severity level 3, at 12 hours of a thursday in May"
   ]
  },
  {
   "cell_type": "markdown",
   "metadata": {},
   "source": [
    "In order for the model to read these distributions we will need to store them in a dict-like format, in this case YAML, which is easily readable by human or machine."
   ]
  },
  {
   "cell_type": "code",
   "execution_count": 14,
   "metadata": {},
   "outputs": [],
   "source": [
    "dists = {}\n",
    "for severity in range(1, 6):\n",
    "    sub_df = df[df[\"severity\"] == severity]\n",
    "    \n",
    "    frequency = float(frequencies_per_grav.round(8)[severity])\n",
    "    \n",
    "    hourly_dist  = (sub_df.hour.   value_counts()/sub_df.hour.   value_counts().mean()).sort_index().round(5).to_dict()\n",
    "    daily_dist   = (sub_df.weekday.value_counts()/sub_df.weekday.value_counts().mean()).sort_index().round(5).to_dict()\n",
    "    monthly_dist = (sub_df.month.  value_counts()/sub_df.month.  value_counts().mean()).sort_index().round(5).to_dict()\n",
    "    \n",
    "    district_prob = (sub_df.district_code.value_counts()/sub_df.district_code.value_counts().sum()).sort_index().round(5).to_dict()\n",
    "    \n",
    "    dists[severity] = {\"frequency\": frequency,\n",
    "                      \"hourly_dist\": hourly_dist,\n",
    "                      \"daily_dist\": daily_dist,\n",
    "                      \"monthly_dist\": monthly_dist,\n",
    "                      \"district_prob\": district_prob}\n",
    "    "
   ]
  },
  {
   "cell_type": "code",
   "execution_count": 15,
   "metadata": {},
   "outputs": [],
   "source": [
    "f = open(\"../data/distributions.yaml\", \"w+\")\n",
    "yaml.dump(dists, f, allow_unicode=True)"
   ]
  },
  {
   "cell_type": "markdown",
   "metadata": {},
   "source": [
    "We can now check that the dictionary stored in the YAML file is the same one we have created."
   ]
  },
  {
   "cell_type": "code",
   "execution_count": 16,
   "metadata": {},
   "outputs": [],
   "source": [
    "with open(\"../data/distributions.yaml\") as dist_file:\n",
    "    yaml_dict = yaml.safe_load(dist_file)"
   ]
  },
  {
   "cell_type": "code",
   "execution_count": 17,
   "metadata": {},
   "outputs": [
    {
     "data": {
      "text/plain": [
       "True"
      ]
     },
     "execution_count": 17,
     "metadata": {},
     "output_type": "execute_result"
    }
   ],
   "source": [
    "yaml_dict == dists"
   ]
  }
 ],
 "metadata": {
  "kernelspec": {
   "display_name": "Python 3",
   "language": "python",
   "name": "python3"
  },
  "language_info": {
   "codemirror_mode": {
    "name": "ipython",
    "version": 3
   },
   "file_extension": ".py",
   "mimetype": "text/x-python",
   "name": "python",
   "nbconvert_exporter": "python",
   "pygments_lexer": "ipython3",
   "version": "3.7.4"
  }
 },
 "nbformat": 4,
 "nbformat_minor": 4
}
